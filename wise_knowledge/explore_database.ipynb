{
 "cells": [
  {
   "cell_type": "markdown",
   "metadata": {},
   "source": [
    "# 🔍 Eksploracja Bazy Danych Qdrant\n",
    "\n",
    "Ten notebook pozwala na podgląd zawartości bazy danych Qdrant z transkryptami podcastów."
   ]
  },
  {
   "cell_type": "markdown",
   "metadata": {},
   "source": [
    "## Setup i Konfiguracja"
   ]
  },
  {
   "cell_type": "code",
   "execution_count": 12,
   "metadata": {},
   "outputs": [
    {
     "name": "stdout",
     "output_type": "stream",
     "text": [
      "✅ Połączono z Qdrant: http://localhost:6333\n",
      "📚 Kolekcja: podcasts_transcripts\n"
     ]
    }
   ],
   "source": [
    "import os\n",
    "from pathlib import Path\n",
    "import pandas as pd\n",
    "from dotenv import load_dotenv\n",
    "from qdrant_client import QdrantClient\n",
    "\n",
    "# Załaduj zmienne środowiskowe\n",
    "load_dotenv()\n",
    "\n",
    "# Konfiguracja\n",
    "QDRANT_URL = os.getenv(\"QDRANT_URL\", \"http://localhost:6333\")\n",
    "COLLECTION_NAME = os.getenv(\"QDRANT_COLLECTION\", \"podcasts_transcripts\")\n",
    "\n",
    "# Połącz się z Qdrant\n",
    "client = QdrantClient(url=QDRANT_URL)\n",
    "\n",
    "print(f\"✅ Połączono z Qdrant: {QDRANT_URL}\")\n",
    "print(f\"📚 Kolekcja: {COLLECTION_NAME}\")"
   ]
  },
  {
   "cell_type": "markdown",
   "metadata": {},
   "source": [
    "## Informacje o Kolekcji"
   ]
  },
  {
   "cell_type": "code",
   "execution_count": 13,
   "metadata": {},
   "outputs": [
    {
     "name": "stdout",
     "output_type": "stream",
     "text": [
      "Nazwa kolekcji: vectors=VectorParams(size=512, distance=<Distance.COSINE: 'Cosine'>, hnsw_config=None, quantization_config=None, on_disk=None, datatype=None, multivector_config=None) shard_number=1 sharding_method=None replication_factor=1 write_consistency_factor=1 read_fan_out_factor=None on_disk_payload=True sparse_vectors=None\n",
      "\n",
      "📊 Statystyki:\n",
      "  - Liczba punktów: 63\n",
      "  - Liczba wektorów: None\n",
      "  - Status: green\n",
      "\n",
      "🎯 Konfiguracja wektorów:\n",
      "  - Wymiary: 512\n",
      "  - Metryka odległości: Cosine\n"
     ]
    }
   ],
   "source": [
    "# Pobierz informacje o kolekcji\n",
    "collection_info = client.get_collection(COLLECTION_NAME)\n",
    "\n",
    "print(f\"Nazwa kolekcji: {collection_info.config.params}\")\n",
    "print(\"\\n📊 Statystyki:\")\n",
    "print(f\"  - Liczba punktów: {collection_info.points_count}\")\n",
    "print(f\"  - Liczba wektorów: {collection_info.vectors_count}\")\n",
    "print(f\"  - Status: {collection_info.status}\")\n",
    "print(\"\\n🎯 Konfiguracja wektorów:\")\n",
    "print(f\"  - Wymiary: {collection_info.config.params.vectors.size}\")\n",
    "print(f\"  - Metryka odległości: {collection_info.config.params.vectors.distance}\")"
   ]
  },
  {
   "cell_type": "markdown",
   "metadata": {},
   "source": [
    "## Podgląd Danych - Pierwsze 5 Punktów"
   ]
  },
  {
   "cell_type": "code",
   "execution_count": 14,
   "metadata": {},
   "outputs": [
    {
     "name": "stdout",
     "output_type": "stream",
     "text": [
      "\n",
      "📄 Pierwsze 5 punktów:\n",
      "\n",
      "================================================================================\n",
      "\n",
      "🆔 ID: 1\n",
      "📌 Original ID: ep_002_section_1\n",
      "🎙️  Episode: Czego NIE MOŻE zawierać firmowa strona internetowa?\n",
      "📖 Section: O Wise Group i kontekst tworzenia stron\n",
      "🏷️  Tags: strony internetowe, marketing B2B, strategia biznesowa, konwersja, user experience, web development, customer journey, digital marketing\n",
      "📝 Content (pierwsze 100 znaków): Kanał powstaje dzięki Wise Group, grupie spółek, które pomagają firmom mądrze rosnąć. Cellwise dorad...\n",
      "💡 Key Points: 2\n",
      "================================================================================\n",
      "\n",
      "🆔 ID: 2\n",
      "📌 Original ID: ep_002_section_2\n",
      "🎙️  Episode: Czego NIE MOŻE zawierać firmowa strona internetowa?\n",
      "📖 Section: Wprowadzenie - ładność vs efektywność biznesowa\n",
      "🏷️  Tags: strony internetowe, marketing B2B, strategia biznesowa, konwersja, user experience, web development, customer journey, digital marketing\n",
      "📝 Content (pierwsze 100 znaków): Wielu właścicieli firm uważa, że ma dobrą stronę internetową, ale równie wielu uważa, że ma słabą. K...\n",
      "💡 Key Points: 3\n",
      "================================================================================\n",
      "\n",
      "🆔 ID: 3\n",
      "📌 Original ID: ep_002_section_3\n",
      "🎙️  Episode: Czego NIE MOŻE zawierać firmowa strona internetowa?\n",
      "📖 Section: Punkt 1-2: Brak odpowiedzi na pytania i nierozwiewanie obiekcji\n",
      "🏷️  Tags: strony internetowe, marketing B2B, strategia biznesowa, konwersja, user experience, web development, customer journey, digital marketing\n",
      "📝 Content (pierwsze 100 znaków): Punkt pierwszy. Po czym poznać słabą stronę internetową? Przede wszystkim słaba strona internetowa n...\n",
      "💡 Key Points: 4\n",
      "================================================================================\n",
      "\n",
      "🆔 ID: 4\n",
      "📌 Original ID: ep_002_section_4\n",
      "🎙️  Episode: Czego NIE MOŻE zawierać firmowa strona internetowa?\n",
      "📖 Section: Punkt 3-4: Brak ścieżki klienta i stawianie barier\n",
      "🏷️  Tags: strony internetowe, marketing B2B, strategia biznesowa, konwersja, user experience, web development, customer journey, digital marketing\n",
      "📝 Content (pierwsze 100 znaków): Część trzecia. Nie prowadzi klienta za rękę. Jeżeli klient nam wszedł na stronę internetową znowuż i...\n",
      "💡 Key Points: 4\n",
      "================================================================================\n",
      "\n",
      "🆔 ID: 5\n",
      "📌 Original ID: ep_002_section_5\n",
      "🎙️  Episode: Czego NIE MOŻE zawierać firmowa strona internetowa?\n",
      "📖 Section: Punkt 5-6: Pomnik w kamieniu i nadmiar kreatywności\n",
      "🏷️  Tags: strony internetowe, marketing B2B, strategia biznesowa, konwersja, user experience, web development, customer journey, digital marketing\n",
      "📝 Content (pierwsze 100 znaków): Piąty punkt. Po czym poznać słabą stronę internetową? Po tym, że jest wyryta w skaliczym pomnik prze...\n",
      "💡 Key Points: 4\n",
      "================================================================================\n"
     ]
    }
   ],
   "source": [
    "# Pobierz pierwsze 5 punktów\n",
    "points = client.scroll(\n",
    "    collection_name=COLLECTION_NAME,\n",
    "    limit=5,\n",
    "    with_payload=True,\n",
    "    with_vectors=False  # Nie pobieraj wektorów (512 wymiarów)\n",
    ")\n",
    "\n",
    "print(f\"\\n📄 Pierwsze {len(points[0])} punktów:\\n\")\n",
    "print(\"=\" * 80)\n",
    "\n",
    "for point in points[0]:\n",
    "    payload = point.payload\n",
    "    print(f\"\\n🆔 ID: {point.id}\")\n",
    "    print(f\"📌 Original ID: {payload.get('original_id', 'N/A')}\")\n",
    "    print(f\"🎙️  Episode: {payload.get('episode_title', 'N/A')}\")\n",
    "    print(f\"📖 Section: {payload.get('section_heading', 'N/A')}\")\n",
    "    print(f\"🏷️  Tags: {', '.join(payload.get('tags', []))}\")\n",
    "    print(f\"📝 Content (pierwsze 100 znaków): {payload.get('content', '')[:100]}...\")\n",
    "    print(f\"💡 Key Points: {len(payload.get('key_points', []))}\")\n",
    "    print(\"=\" * 80)"
   ]
  },
  {
   "cell_type": "markdown",
   "metadata": {},
   "source": [
    "## Analiza Danych - Wszystkie Punkty"
   ]
  },
  {
   "cell_type": "code",
   "execution_count": 15,
   "metadata": {},
   "outputs": [
    {
     "name": "stdout",
     "output_type": "stream",
     "text": [
      "✅ Pobrano 63 punktów\n"
     ]
    }
   ],
   "source": [
    "# Pobierz wszystkie punkty\n",
    "all_points = []\n",
    "offset = None\n",
    "\n",
    "while True:\n",
    "    points, offset = client.scroll(\n",
    "        collection_name=COLLECTION_NAME,\n",
    "        limit=100,\n",
    "        offset=offset,\n",
    "        with_payload=True,\n",
    "        with_vectors=False\n",
    "    )\n",
    "    all_points.extend(points)\n",
    "    if offset is None:\n",
    "        break\n",
    "\n",
    "print(f\"✅ Pobrano {len(all_points)} punktów\")"
   ]
  },
  {
   "cell_type": "markdown",
   "metadata": {},
   "source": [
    "## DataFrame z Metadanymi"
   ]
  },
  {
   "cell_type": "code",
   "execution_count": 16,
   "metadata": {},
   "outputs": [
    {
     "data": {
      "application/vnd.microsoft.datawrangler.viewer.v0+json": {
       "columns": [
        {
         "name": "index",
         "rawType": "int64",
         "type": "integer"
        },
        {
         "name": "id",
         "rawType": "int64",
         "type": "integer"
        },
        {
         "name": "original_id",
         "rawType": "object",
         "type": "string"
        },
        {
         "name": "episode_id",
         "rawType": "object",
         "type": "string"
        },
        {
         "name": "episode_title",
         "rawType": "object",
         "type": "string"
        },
        {
         "name": "section_heading",
         "rawType": "object",
         "type": "string"
        },
        {
         "name": "chunk_index",
         "rawType": "int64",
         "type": "integer"
        },
        {
         "name": "content_length",
         "rawType": "int64",
         "type": "integer"
        },
        {
         "name": "num_key_points",
         "rawType": "int64",
         "type": "integer"
        },
        {
         "name": "num_tags",
         "rawType": "int64",
         "type": "integer"
        },
        {
         "name": "source_file",
         "rawType": "object",
         "type": "string"
        }
       ],
       "ref": "a8f5333b-e850-4b10-ae35-eccfe28fd895",
       "rows": [
        [
         "0",
         "1",
         "ep_002_section_1",
         "ep_002",
         "Czego NIE MOŻE zawierać firmowa strona internetowa?",
         "O Wise Group i kontekst tworzenia stron",
         "1",
         "915",
         "2",
         "8",
         "budowanie_strony_internetowej_b2b.json"
        ],
        [
         "1",
         "2",
         "ep_002_section_2",
         "ep_002",
         "Czego NIE MOŻE zawierać firmowa strona internetowa?",
         "Wprowadzenie - ładność vs efektywność biznesowa",
         "2",
         "1276",
         "3",
         "8",
         "budowanie_strony_internetowej_b2b.json"
        ],
        [
         "2",
         "3",
         "ep_002_section_3",
         "ep_002",
         "Czego NIE MOŻE zawierać firmowa strona internetowa?",
         "Punkt 1-2: Brak odpowiedzi na pytania i nierozwiewanie obiekcji",
         "3",
         "4798",
         "4",
         "8",
         "budowanie_strony_internetowej_b2b.json"
        ],
        [
         "3",
         "4",
         "ep_002_section_4",
         "ep_002",
         "Czego NIE MOŻE zawierać firmowa strona internetowa?",
         "Punkt 3-4: Brak ścieżki klienta i stawianie barier",
         "4",
         "4200",
         "4",
         "8",
         "budowanie_strony_internetowej_b2b.json"
        ],
        [
         "4",
         "5",
         "ep_002_section_5",
         "ep_002",
         "Czego NIE MOŻE zawierać firmowa strona internetowa?",
         "Punkt 5-6: Pomnik w kamieniu i nadmiar kreatywności",
         "5",
         "3964",
         "4",
         "8",
         "budowanie_strony_internetowej_b2b.json"
        ],
        [
         "5",
         "6",
         "ep_002_section_6",
         "ep_002",
         "Czego NIE MOŻE zawierać firmowa strona internetowa?",
         "Punkt 7-8: Wolna strona i niespójność wizualna",
         "6",
         "1506",
         "4",
         "8",
         "budowanie_strony_internetowej_b2b.json"
        ],
        [
         "6",
         "7",
         "ep_002_section_7",
         "ep_002",
         "Czego NIE MOŻE zawierać firmowa strona internetowa?",
         "Podsumowanie 8 cech słabej strony",
         "7",
         "1391",
         "2",
         "8",
         "budowanie_strony_internetowej_b2b.json"
        ],
        [
         "7",
         "8",
         "ep_002_section_8",
         "ep_002",
         "Czego NIE MOŻE zawierać firmowa strona internetowa?",
         "4 typy wykonawców stron internetowych",
         "8",
         "4200",
         "4",
         "8",
         "budowanie_strony_internetowej_b2b.json"
        ],
        [
         "8",
         "9",
         "ep_002_section_9",
         "ep_002",
         "Czego NIE MOŻE zawierać firmowa strona internetowa?",
         "Dlaczego strategia jest kluczowa",
         "9",
         "1563",
         "4",
         "8",
         "budowanie_strony_internetowej_b2b.json"
        ],
        [
         "9",
         "10",
         "ep_005_section_1",
         "ep_005",
         "5 fundamentów pozyskiwania klientów",
         "Wprowadzenie i kontekst rynkowy",
         "1",
         "665",
         "3",
         "8",
         "fundamenty_pozyskiwania_klientow.json"
        ]
       ],
       "shape": {
        "columns": 10,
        "rows": 10
       }
      },
      "text/html": [
       "<div>\n",
       "<style scoped>\n",
       "    .dataframe tbody tr th:only-of-type {\n",
       "        vertical-align: middle;\n",
       "    }\n",
       "\n",
       "    .dataframe tbody tr th {\n",
       "        vertical-align: top;\n",
       "    }\n",
       "\n",
       "    .dataframe thead th {\n",
       "        text-align: right;\n",
       "    }\n",
       "</style>\n",
       "<table border=\"1\" class=\"dataframe\">\n",
       "  <thead>\n",
       "    <tr style=\"text-align: right;\">\n",
       "      <th></th>\n",
       "      <th>id</th>\n",
       "      <th>original_id</th>\n",
       "      <th>episode_id</th>\n",
       "      <th>episode_title</th>\n",
       "      <th>section_heading</th>\n",
       "      <th>chunk_index</th>\n",
       "      <th>content_length</th>\n",
       "      <th>num_key_points</th>\n",
       "      <th>num_tags</th>\n",
       "      <th>source_file</th>\n",
       "    </tr>\n",
       "  </thead>\n",
       "  <tbody>\n",
       "    <tr>\n",
       "      <th>0</th>\n",
       "      <td>1</td>\n",
       "      <td>ep_002_section_1</td>\n",
       "      <td>ep_002</td>\n",
       "      <td>Czego NIE MOŻE zawierać firmowa strona interne...</td>\n",
       "      <td>O Wise Group i kontekst tworzenia stron</td>\n",
       "      <td>1</td>\n",
       "      <td>915</td>\n",
       "      <td>2</td>\n",
       "      <td>8</td>\n",
       "      <td>budowanie_strony_internetowej_b2b.json</td>\n",
       "    </tr>\n",
       "    <tr>\n",
       "      <th>1</th>\n",
       "      <td>2</td>\n",
       "      <td>ep_002_section_2</td>\n",
       "      <td>ep_002</td>\n",
       "      <td>Czego NIE MOŻE zawierać firmowa strona interne...</td>\n",
       "      <td>Wprowadzenie - ładność vs efektywność biznesowa</td>\n",
       "      <td>2</td>\n",
       "      <td>1276</td>\n",
       "      <td>3</td>\n",
       "      <td>8</td>\n",
       "      <td>budowanie_strony_internetowej_b2b.json</td>\n",
       "    </tr>\n",
       "    <tr>\n",
       "      <th>2</th>\n",
       "      <td>3</td>\n",
       "      <td>ep_002_section_3</td>\n",
       "      <td>ep_002</td>\n",
       "      <td>Czego NIE MOŻE zawierać firmowa strona interne...</td>\n",
       "      <td>Punkt 1-2: Brak odpowiedzi na pytania i nieroz...</td>\n",
       "      <td>3</td>\n",
       "      <td>4798</td>\n",
       "      <td>4</td>\n",
       "      <td>8</td>\n",
       "      <td>budowanie_strony_internetowej_b2b.json</td>\n",
       "    </tr>\n",
       "    <tr>\n",
       "      <th>3</th>\n",
       "      <td>4</td>\n",
       "      <td>ep_002_section_4</td>\n",
       "      <td>ep_002</td>\n",
       "      <td>Czego NIE MOŻE zawierać firmowa strona interne...</td>\n",
       "      <td>Punkt 3-4: Brak ścieżki klienta i stawianie ba...</td>\n",
       "      <td>4</td>\n",
       "      <td>4200</td>\n",
       "      <td>4</td>\n",
       "      <td>8</td>\n",
       "      <td>budowanie_strony_internetowej_b2b.json</td>\n",
       "    </tr>\n",
       "    <tr>\n",
       "      <th>4</th>\n",
       "      <td>5</td>\n",
       "      <td>ep_002_section_5</td>\n",
       "      <td>ep_002</td>\n",
       "      <td>Czego NIE MOŻE zawierać firmowa strona interne...</td>\n",
       "      <td>Punkt 5-6: Pomnik w kamieniu i nadmiar kreatyw...</td>\n",
       "      <td>5</td>\n",
       "      <td>3964</td>\n",
       "      <td>4</td>\n",
       "      <td>8</td>\n",
       "      <td>budowanie_strony_internetowej_b2b.json</td>\n",
       "    </tr>\n",
       "    <tr>\n",
       "      <th>5</th>\n",
       "      <td>6</td>\n",
       "      <td>ep_002_section_6</td>\n",
       "      <td>ep_002</td>\n",
       "      <td>Czego NIE MOŻE zawierać firmowa strona interne...</td>\n",
       "      <td>Punkt 7-8: Wolna strona i niespójność wizualna</td>\n",
       "      <td>6</td>\n",
       "      <td>1506</td>\n",
       "      <td>4</td>\n",
       "      <td>8</td>\n",
       "      <td>budowanie_strony_internetowej_b2b.json</td>\n",
       "    </tr>\n",
       "    <tr>\n",
       "      <th>6</th>\n",
       "      <td>7</td>\n",
       "      <td>ep_002_section_7</td>\n",
       "      <td>ep_002</td>\n",
       "      <td>Czego NIE MOŻE zawierać firmowa strona interne...</td>\n",
       "      <td>Podsumowanie 8 cech słabej strony</td>\n",
       "      <td>7</td>\n",
       "      <td>1391</td>\n",
       "      <td>2</td>\n",
       "      <td>8</td>\n",
       "      <td>budowanie_strony_internetowej_b2b.json</td>\n",
       "    </tr>\n",
       "    <tr>\n",
       "      <th>7</th>\n",
       "      <td>8</td>\n",
       "      <td>ep_002_section_8</td>\n",
       "      <td>ep_002</td>\n",
       "      <td>Czego NIE MOŻE zawierać firmowa strona interne...</td>\n",
       "      <td>4 typy wykonawców stron internetowych</td>\n",
       "      <td>8</td>\n",
       "      <td>4200</td>\n",
       "      <td>4</td>\n",
       "      <td>8</td>\n",
       "      <td>budowanie_strony_internetowej_b2b.json</td>\n",
       "    </tr>\n",
       "    <tr>\n",
       "      <th>8</th>\n",
       "      <td>9</td>\n",
       "      <td>ep_002_section_9</td>\n",
       "      <td>ep_002</td>\n",
       "      <td>Czego NIE MOŻE zawierać firmowa strona interne...</td>\n",
       "      <td>Dlaczego strategia jest kluczowa</td>\n",
       "      <td>9</td>\n",
       "      <td>1563</td>\n",
       "      <td>4</td>\n",
       "      <td>8</td>\n",
       "      <td>budowanie_strony_internetowej_b2b.json</td>\n",
       "    </tr>\n",
       "    <tr>\n",
       "      <th>9</th>\n",
       "      <td>10</td>\n",
       "      <td>ep_005_section_1</td>\n",
       "      <td>ep_005</td>\n",
       "      <td>5 fundamentów pozyskiwania klientów</td>\n",
       "      <td>Wprowadzenie i kontekst rynkowy</td>\n",
       "      <td>1</td>\n",
       "      <td>665</td>\n",
       "      <td>3</td>\n",
       "      <td>8</td>\n",
       "      <td>fundamenty_pozyskiwania_klientow.json</td>\n",
       "    </tr>\n",
       "  </tbody>\n",
       "</table>\n",
       "</div>"
      ],
      "text/plain": [
       "   id       original_id episode_id  \\\n",
       "0   1  ep_002_section_1     ep_002   \n",
       "1   2  ep_002_section_2     ep_002   \n",
       "2   3  ep_002_section_3     ep_002   \n",
       "3   4  ep_002_section_4     ep_002   \n",
       "4   5  ep_002_section_5     ep_002   \n",
       "5   6  ep_002_section_6     ep_002   \n",
       "6   7  ep_002_section_7     ep_002   \n",
       "7   8  ep_002_section_8     ep_002   \n",
       "8   9  ep_002_section_9     ep_002   \n",
       "9  10  ep_005_section_1     ep_005   \n",
       "\n",
       "                                       episode_title  \\\n",
       "0  Czego NIE MOŻE zawierać firmowa strona interne...   \n",
       "1  Czego NIE MOŻE zawierać firmowa strona interne...   \n",
       "2  Czego NIE MOŻE zawierać firmowa strona interne...   \n",
       "3  Czego NIE MOŻE zawierać firmowa strona interne...   \n",
       "4  Czego NIE MOŻE zawierać firmowa strona interne...   \n",
       "5  Czego NIE MOŻE zawierać firmowa strona interne...   \n",
       "6  Czego NIE MOŻE zawierać firmowa strona interne...   \n",
       "7  Czego NIE MOŻE zawierać firmowa strona interne...   \n",
       "8  Czego NIE MOŻE zawierać firmowa strona interne...   \n",
       "9                5 fundamentów pozyskiwania klientów   \n",
       "\n",
       "                                     section_heading  chunk_index  \\\n",
       "0            O Wise Group i kontekst tworzenia stron            1   \n",
       "1    Wprowadzenie - ładność vs efektywność biznesowa            2   \n",
       "2  Punkt 1-2: Brak odpowiedzi na pytania i nieroz...            3   \n",
       "3  Punkt 3-4: Brak ścieżki klienta i stawianie ba...            4   \n",
       "4  Punkt 5-6: Pomnik w kamieniu i nadmiar kreatyw...            5   \n",
       "5     Punkt 7-8: Wolna strona i niespójność wizualna            6   \n",
       "6                  Podsumowanie 8 cech słabej strony            7   \n",
       "7              4 typy wykonawców stron internetowych            8   \n",
       "8                   Dlaczego strategia jest kluczowa            9   \n",
       "9                    Wprowadzenie i kontekst rynkowy            1   \n",
       "\n",
       "   content_length  num_key_points  num_tags  \\\n",
       "0             915               2         8   \n",
       "1            1276               3         8   \n",
       "2            4798               4         8   \n",
       "3            4200               4         8   \n",
       "4            3964               4         8   \n",
       "5            1506               4         8   \n",
       "6            1391               2         8   \n",
       "7            4200               4         8   \n",
       "8            1563               4         8   \n",
       "9             665               3         8   \n",
       "\n",
       "                              source_file  \n",
       "0  budowanie_strony_internetowej_b2b.json  \n",
       "1  budowanie_strony_internetowej_b2b.json  \n",
       "2  budowanie_strony_internetowej_b2b.json  \n",
       "3  budowanie_strony_internetowej_b2b.json  \n",
       "4  budowanie_strony_internetowej_b2b.json  \n",
       "5  budowanie_strony_internetowej_b2b.json  \n",
       "6  budowanie_strony_internetowej_b2b.json  \n",
       "7  budowanie_strony_internetowej_b2b.json  \n",
       "8  budowanie_strony_internetowej_b2b.json  \n",
       "9   fundamenty_pozyskiwania_klientow.json  "
      ]
     },
     "execution_count": 16,
     "metadata": {},
     "output_type": "execute_result"
    }
   ],
   "source": [
    "# Konwersja do DataFrame\n",
    "data = []\n",
    "for point in all_points:\n",
    "    payload = point.payload\n",
    "    data.append({\n",
    "        'id': point.id,\n",
    "        'original_id': payload.get('original_id', ''),\n",
    "        'episode_id': payload.get('episode_id', ''),\n",
    "        'episode_title': payload.get('episode_title', ''),\n",
    "        'section_heading': payload.get('section_heading', ''),\n",
    "        'chunk_index': payload.get('chunk_index', 0),\n",
    "        'content_length': len(payload.get('content', '')),\n",
    "        'num_key_points': len(payload.get('key_points', [])),\n",
    "        'num_tags': len(payload.get('tags', [])),\n",
    "        'source_file': payload.get('source_file', ''),\n",
    "    })\n",
    "\n",
    "df = pd.DataFrame(data)\n",
    "df.head(10)"
   ]
  },
  {
   "cell_type": "markdown",
   "metadata": {},
   "source": [
    "## Statystyki"
   ]
  },
  {
   "cell_type": "code",
   "execution_count": 17,
   "metadata": {},
   "outputs": [
    {
     "name": "stdout",
     "output_type": "stream",
     "text": [
      "📊 Statystyki bazy danych:\n",
      "\n",
      "Całkowita liczba sekcji: 63\n",
      "Liczba unikalnych epizodów: 6\n",
      "Liczba plików źródłowych: 6\n",
      "\n",
      "📏 Długość contentu:\n",
      "  - Średnia: 2307 znaków\n",
      "  - Mediana: 1726 znaków\n",
      "  - Min: 302 znaków\n",
      "  - Max: 8233 znaków\n",
      "\n",
      "💡 Key points:\n",
      "  - Średnia na sekcję: 3.3\n",
      "  - Całkowita liczba: 208\n"
     ]
    }
   ],
   "source": [
    "print(\"📊 Statystyki bazy danych:\\n\")\n",
    "print(f\"Całkowita liczba sekcji: {len(df)}\")\n",
    "print(f\"Liczba unikalnych epizodów: {df['episode_id'].nunique()}\")\n",
    "print(f\"Liczba plików źródłowych: {df['source_file'].nunique()}\")\n",
    "print(\"\\n📏 Długość contentu:\")\n",
    "print(f\"  - Średnia: {df['content_length'].mean():.0f} znaków\")\n",
    "print(f\"  - Mediana: {df['content_length'].median():.0f} znaków\")\n",
    "print(f\"  - Min: {df['content_length'].min()} znaków\")\n",
    "print(f\"  - Max: {df['content_length'].max()} znaków\")\n",
    "print(\"\\n💡 Key points:\")\n",
    "print(f\"  - Średnia na sekcję: {df['num_key_points'].mean():.1f}\")\n",
    "print(f\"  - Całkowita liczba: {df['num_key_points'].sum()}\")"
   ]
  },
  {
   "cell_type": "markdown",
   "metadata": {},
   "source": [
    "## Podział na Epizody"
   ]
  },
  {
   "cell_type": "code",
   "execution_count": 18,
   "metadata": {},
   "outputs": [
    {
     "data": {
      "application/vnd.microsoft.datawrangler.viewer.v0+json": {
       "columns": [
        {
         "name": "episode_id",
         "rawType": "object",
         "type": "string"
        },
        {
         "name": "episode_title",
         "rawType": "object",
         "type": "string"
        },
        {
         "name": "num_sections",
         "rawType": "int64",
         "type": "integer"
        },
        {
         "name": "total_content_length",
         "rawType": "int64",
         "type": "integer"
        },
        {
         "name": "total_key_points",
         "rawType": "int64",
         "type": "integer"
        }
       ],
       "ref": "a64ca68c-f9a8-4862-8a05-db557319a783",
       "rows": [
        [
         "ep_001",
         "Jak zbudować STRATEGIĘ BIZNESU w 35 minut? (Moja metoda)",
         "13",
         "32142",
         "42"
        ],
        [
         "ep_003",
         "6 zasad skutecznego PROSPECTINGU! Pozyskiwanie klientów mailowo",
         "12",
         "18436",
         "39"
        ],
        [
         "ep_004",
         "1 SPOSÓB, żeby klienci zgłaszali się do Ciebie sami!",
         "12",
         "19611",
         "39"
        ],
        [
         "ep_002",
         "Czego NIE MOŻE zawierać firmowa strona internetowa?",
         "9",
         "23813",
         "31"
        ],
        [
         "ep_005",
         "5 fundamentów pozyskiwania klientów",
         "9",
         "31156",
         "30"
        ],
        [
         "ep_006",
         "Jak wyróżnić się na tle konkurencji? 20 obszarów",
         "8",
         "20152",
         "27"
        ]
       ],
       "shape": {
        "columns": 4,
        "rows": 6
       }
      },
      "text/html": [
       "<div>\n",
       "<style scoped>\n",
       "    .dataframe tbody tr th:only-of-type {\n",
       "        vertical-align: middle;\n",
       "    }\n",
       "\n",
       "    .dataframe tbody tr th {\n",
       "        vertical-align: top;\n",
       "    }\n",
       "\n",
       "    .dataframe thead th {\n",
       "        text-align: right;\n",
       "    }\n",
       "</style>\n",
       "<table border=\"1\" class=\"dataframe\">\n",
       "  <thead>\n",
       "    <tr style=\"text-align: right;\">\n",
       "      <th></th>\n",
       "      <th>episode_title</th>\n",
       "      <th>num_sections</th>\n",
       "      <th>total_content_length</th>\n",
       "      <th>total_key_points</th>\n",
       "    </tr>\n",
       "    <tr>\n",
       "      <th>episode_id</th>\n",
       "      <th></th>\n",
       "      <th></th>\n",
       "      <th></th>\n",
       "      <th></th>\n",
       "    </tr>\n",
       "  </thead>\n",
       "  <tbody>\n",
       "    <tr>\n",
       "      <th>ep_001</th>\n",
       "      <td>Jak zbudować STRATEGIĘ BIZNESU w 35 minut? (Mo...</td>\n",
       "      <td>13</td>\n",
       "      <td>32142</td>\n",
       "      <td>42</td>\n",
       "    </tr>\n",
       "    <tr>\n",
       "      <th>ep_003</th>\n",
       "      <td>6 zasad skutecznego PROSPECTINGU! Pozyskiwanie...</td>\n",
       "      <td>12</td>\n",
       "      <td>18436</td>\n",
       "      <td>39</td>\n",
       "    </tr>\n",
       "    <tr>\n",
       "      <th>ep_004</th>\n",
       "      <td>1 SPOSÓB, żeby klienci zgłaszali się do Ciebie...</td>\n",
       "      <td>12</td>\n",
       "      <td>19611</td>\n",
       "      <td>39</td>\n",
       "    </tr>\n",
       "    <tr>\n",
       "      <th>ep_002</th>\n",
       "      <td>Czego NIE MOŻE zawierać firmowa strona interne...</td>\n",
       "      <td>9</td>\n",
       "      <td>23813</td>\n",
       "      <td>31</td>\n",
       "    </tr>\n",
       "    <tr>\n",
       "      <th>ep_005</th>\n",
       "      <td>5 fundamentów pozyskiwania klientów</td>\n",
       "      <td>9</td>\n",
       "      <td>31156</td>\n",
       "      <td>30</td>\n",
       "    </tr>\n",
       "    <tr>\n",
       "      <th>ep_006</th>\n",
       "      <td>Jak wyróżnić się na tle konkurencji? 20 obszarów</td>\n",
       "      <td>8</td>\n",
       "      <td>20152</td>\n",
       "      <td>27</td>\n",
       "    </tr>\n",
       "  </tbody>\n",
       "</table>\n",
       "</div>"
      ],
      "text/plain": [
       "                                                episode_title  num_sections  \\\n",
       "episode_id                                                                    \n",
       "ep_001      Jak zbudować STRATEGIĘ BIZNESU w 35 minut? (Mo...            13   \n",
       "ep_003      6 zasad skutecznego PROSPECTINGU! Pozyskiwanie...            12   \n",
       "ep_004      1 SPOSÓB, żeby klienci zgłaszali się do Ciebie...            12   \n",
       "ep_002      Czego NIE MOŻE zawierać firmowa strona interne...             9   \n",
       "ep_005                    5 fundamentów pozyskiwania klientów             9   \n",
       "ep_006       Jak wyróżnić się na tle konkurencji? 20 obszarów             8   \n",
       "\n",
       "            total_content_length  total_key_points  \n",
       "episode_id                                          \n",
       "ep_001                     32142                42  \n",
       "ep_003                     18436                39  \n",
       "ep_004                     19611                39  \n",
       "ep_002                     23813                31  \n",
       "ep_005                     31156                30  \n",
       "ep_006                     20152                27  "
      ]
     },
     "execution_count": 18,
     "metadata": {},
     "output_type": "execute_result"
    }
   ],
   "source": [
    "# Liczba sekcji na epizod\n",
    "episodes_stats = df.groupby('episode_id').agg({\n",
    "    'episode_title': 'first',\n",
    "    'section_heading': 'count',\n",
    "    'content_length': 'sum',\n",
    "    'num_key_points': 'sum'\n",
    "}).rename(columns={\n",
    "    'section_heading': 'num_sections',\n",
    "    'content_length': 'total_content_length',\n",
    "    'num_key_points': 'total_key_points'\n",
    "})\n",
    "\n",
    "episodes_stats = episodes_stats.sort_values('num_sections', ascending=False)\n",
    "episodes_stats"
   ]
  },
  {
   "cell_type": "markdown",
   "metadata": {},
   "source": [
    "## Wizualizacje"
   ]
  },
  {
   "cell_type": "code",
   "execution_count": 19,
   "metadata": {},
   "outputs": [
    {
     "data": {
      "image/png": "[encoded data removed]",
      "text/plain": [
       "<Figure size 1400x1000 with 4 Axes>"
      ]
     },
     "metadata": {},
     "output_type": "display_data"
    }
   ],
   "source": [
    "import matplotlib.pyplot as plt\n",
    "\n",
    "fig, axes = plt.subplots(2, 2, figsize=(14, 10))\n",
    "\n",
    "# 1. Rozkład długości contentu\n",
    "df['content_length'].hist(bins=30, ax=axes[0, 0], edgecolor='black')\n",
    "axes[0, 0].set_title('Rozkład długości contentu (znaki)')\n",
    "axes[0, 0].set_xlabel('Długość')\n",
    "axes[0, 0].set_ylabel('Liczba sekcji')\n",
    "\n",
    "# 2. Liczba key points na sekcję\n",
    "df['num_key_points'].value_counts().sort_index().plot(kind='bar', ax=axes[0, 1], edgecolor='black')\n",
    "axes[0, 1].set_title('Liczba key points na sekcję')\n",
    "axes[0, 1].set_xlabel('Liczba key points')\n",
    "axes[0, 1].set_ylabel('Liczba sekcji')\n",
    "\n",
    "# 3. Sekcje na epizod\n",
    "episodes_stats['num_sections'].plot(kind='barh', ax=axes[1, 0], edgecolor='black')\n",
    "axes[1, 0].set_title('Liczba sekcji na epizod')\n",
    "axes[1, 0].set_xlabel('Liczba sekcji')\n",
    "axes[1, 0].set_ylabel('Episode ID')\n",
    "\n",
    "# 4. Całkowita długość contentu na epizod\n",
    "episodes_stats['total_content_length'].plot(kind='barh', ax=axes[1, 1], edgecolor='black', color='green')\n",
    "axes[1, 1].set_title('Całkowita długość contentu na epizod')\n",
    "axes[1, 1].set_xlabel('Liczba znaków')\n",
    "axes[1, 1].set_ylabel('Episode ID')\n",
    "\n",
    "plt.tight_layout()\n",
    "plt.show()"
   ]
  },
  {
   "cell_type": "markdown",
   "metadata": {},
   "source": [
    "## Przykładowe Wyszukiwanie\n",
    "\n",
    "Możesz tutaj przetestować proste wyszukiwanie po metadanych."
   ]
  },
  {
   "cell_type": "code",
   "execution_count": 20,
   "metadata": {},
   "outputs": [
    {
     "name": "stdout",
     "output_type": "stream",
     "text": [
      "🎙️  Epizod: Czego NIE MOŻE zawierać firmowa strona internetowa?\n",
      "📚 Liczba sekcji: 9\n",
      "\n",
      "📖 O Wise Group i kontekst tworzenia stron (ID: 1)\n",
      "   Długość: 915 znaków, Key points: 2\n",
      "\n",
      "📖 Wprowadzenie - ładność vs efektywność biznesowa (ID: 2)\n",
      "   Długość: 1276 znaków, Key points: 3\n",
      "\n",
      "📖 Punkt 1-2: Brak odpowiedzi na pytania i nierozwiewanie obiekcji (ID: 3)\n",
      "   Długość: 4798 znaków, Key points: 4\n",
      "\n",
      "📖 Punkt 3-4: Brak ścieżki klienta i stawianie barier (ID: 4)\n",
      "   Długość: 4200 znaków, Key points: 4\n",
      "\n",
      "📖 Punkt 5-6: Pomnik w kamieniu i nadmiar kreatywności (ID: 5)\n",
      "   Długość: 3964 znaków, Key points: 4\n",
      "\n",
      "📖 Punkt 7-8: Wolna strona i niespójność wizualna (ID: 6)\n",
      "   Długość: 1506 znaków, Key points: 4\n",
      "\n",
      "📖 Podsumowanie 8 cech słabej strony (ID: 7)\n",
      "   Długość: 1391 znaków, Key points: 2\n",
      "\n",
      "📖 4 typy wykonawców stron internetowych (ID: 8)\n",
      "   Długość: 4200 znaków, Key points: 4\n",
      "\n",
      "📖 Dlaczego strategia jest kluczowa (ID: 9)\n",
      "   Długość: 1563 znaków, Key points: 4\n",
      "\n"
     ]
    }
   ],
   "source": [
    "# Przykład: Wyszukaj sekcje z konkretnego epizodu\n",
    "episode_to_search = df['episode_id'].iloc[0]  # Pierwszy epizod\n",
    "\n",
    "episode_sections = df[df['episode_id'] == episode_to_search]\n",
    "\n",
    "print(f\"🎙️  Epizod: {episode_sections['episode_title'].iloc[0]}\")\n",
    "print(f\"📚 Liczba sekcji: {len(episode_sections)}\\n\")\n",
    "\n",
    "for idx, row in episode_sections.iterrows():\n",
    "    print(f\"📖 {row['section_heading']} (ID: {row['id']})\")\n",
    "    print(f\"   Długość: {row['content_length']} znaków, Key points: {row['num_key_points']}\")\n",
    "    print()"
   ]
  },
  {
   "cell_type": "markdown",
   "metadata": {},
   "source": [
    "## Podgląd Konkretnego Punktu"
   ]
  },
  {
   "cell_type": "code",
   "execution_count": 21,
   "metadata": {},
   "outputs": [
    {
     "name": "stdout",
     "output_type": "stream",
     "text": [
      "================================================================================\n",
      "🆔 ID: 1\n",
      "📌 Original ID: ep_002_section_1\n",
      "🎙️  Episode: Czego NIE MOŻE zawierać firmowa strona internetowa?\n",
      "📝 Summary: Odcinek wyjaśnia, jak rozpoznać słabą stronę internetową i dlaczego większość firmowych stron nie wspiera biznesu. Autor przedstawia 8 cech złych stron (od braku odpowiedzi na pytania klienta po probl...\n",
      "\n",
      "📖 Section: O Wise Group i kontekst tworzenia stron\n",
      "🏷️  Tags: strony internetowe, marketing B2B, strategia biznesowa, konwersja, user experience, web development, customer journey, digital marketing\n",
      "\n",
      "📄 Content:\n",
      "Kanał powstaje dzięki Wise Group, grupie spółek, które pomagają firmom mądrze rosnąć. Cellwise doradza, szkoli i wdraża narzędzia IT w sprzedaży B2B. Adwise projektuje i realizuje marketing B2B. Hwise specjalizuje się w rekrutacjach IHRze. Automate wdraża automatyzację oraz AI w firmach. Sprawdź więcej na wisegroup.pl.\n",
      "\n",
      "My w Adwisie, naszej agencji marketingowej, zajmujemy się tworzeniem stron mniej więcej od trzech lat. Zaczęliśmy je tworzyć dla B2B dlatego, że no właśnie one są szale nieistotne i bez dobrej strony internetowej ciężko mówić o konwersji. I kiedy dostajemy zapytania o wykonanie strony internetowej to zawsze jest tam napisane, że chcemy, żeby była czytelna, responsywna, intuicyjna, sprzeda, żeby sprzedawała, żeby w ogóle była bardzo ładna i fajna. I problem z tymi stronami internetowymi sprowadza się w dużej mierze do uwaga odczuć, a nie faktów. A teraz chciałbym pogadać o kilku faktach.\n",
      "\n",
      "💡 Key Points:\n",
      "  1. Adwise tworzy strony dla B2B od 3 lat, ponieważ bez dobrej strony ciężko mówić o konwersji\n",
      "  2. Problem stron internetowych to skupienie się na odczuciach (ładna, nowoczesna) zamiast na faktach biznesowych\n",
      "================================================================================\n"
     ]
    }
   ],
   "source": [
    "# Wybierz ID punktu do podglądu\n",
    "point_id = 1  # Zmień na dowolne ID\n",
    "\n",
    "# Pobierz punkt\n",
    "point = client.retrieve(\n",
    "    collection_name=COLLECTION_NAME,\n",
    "    ids=[point_id],\n",
    "    with_payload=True,\n",
    "    with_vectors=False\n",
    ")[0]\n",
    "\n",
    "payload = point.payload\n",
    "\n",
    "print(\"=\" * 80)\n",
    "print(f\"🆔 ID: {point.id}\")\n",
    "print(f\"📌 Original ID: {payload.get('original_id')}\")\n",
    "print(f\"🎙️  Episode: {payload.get('episode_title')}\")\n",
    "print(f\"📝 Summary: {payload.get('summary', 'N/A')[:200]}...\")\n",
    "print(f\"\\n📖 Section: {payload.get('section_heading')}\")\n",
    "print(f\"🏷️  Tags: {', '.join(payload.get('tags', []))}\")\n",
    "print(f\"\\n📄 Content:\\n{payload.get('content', '')}\")\n",
    "print(\"\\n💡 Key Points:\")\n",
    "for i, kp in enumerate(payload.get('key_points', []), 1):\n",
    "    print(f\"  {i}. {kp}\")\n",
    "print(\"=\" * 80)"
   ]
  },
  {
   "cell_type": "code",
   "execution_count": null,
   "metadata": {},
   "outputs": [
    {
     "name": "stdout",
     "output_type": "stream",
     "text": [
      "🆔 Punkt ID: 1\n",
      "📌 Original ID: ep_002_section_1\n",
      "📖 Section: O Wise Group i kontekst tworzenia stron\n",
      "\n",
      "🔢 Embedding (wektor):\n",
      "   - Wymiary: 512\n",
      "   - Typ: <class 'list'>\n",
      "\n",
      "   Pierwsze 10 wartości: [-0.010807664, 0.04052874, 0.031288855, 0.049835343, 0.056640167, -0.020547906, -0.105341375, -0.02159865, -0.021632008, -0.010649219]\n",
      "   Ostatnie 10 wartości: [-0.051770046, 0.034624554, 0.05126969, 0.039027676, -0.038026966, -0.027669623, 0.020914832, -0.0012498447, -0.003502484, -0.048034064]\n",
      "\n",
      "   Zakres wartości: [-0.1521, 0.1363]\n",
      "   Średnia: -0.0040\n"
     ]
    }
   ],
   "source": [
    "# Pobierz punkt Z wektorem\n",
    "point_id = 1\n",
    "\n",
    "point_with_vector = client.retrieve(\n",
    "    collection_name=COLLECTION_NAME,\n",
    "    ids=[point_id],\n",
    "    with_payload=True,\n",
    "    with_vectors=True  # Teraz pobieramy wektor!\n",
    ")[0]\n",
    "\n",
    "print(f\"🆔 Punkt ID: {point_id}\")\n",
    "print(f\"📌 Original ID: {point_with_vector.payload.get('original_id')}\")\n",
    "print(f\"📖 Section: {point_with_vector.payload.get('section_heading')}\")\n",
    "print(\"\\n🔢 Embedding (wektor):\")\n",
    "print(f\"   - Wymiary: {len(point_with_vector.vector)}\")\n",
    "print(f\"   - Typ: {type(point_with_vector.vector)}\")\n",
    "print(f\"\\n   Pierwsze 10 wartości: {point_with_vector.vector[:10]}\")\n",
    "print(f\"   Ostatnie 10 wartości: {point_with_vector.vector[-10:]}\")\n",
    "print(f\"\\n   Zakres wartości: [{min(point_with_vector.vector):.4f}, {max(point_with_vector.vector):.4f}]\")\n",
    "print(f\"   Średnia: {sum(point_with_vector.vector) / len(point_with_vector.vector):.4f}\")"
   ]
  },
  {
   "cell_type": "markdown",
   "metadata": {},
   "source": [
    "## Podgląd Embeddingu (Wektora)\n",
    "\n",
    "Każdy punkt ma 512-wymiarowy wektor (embedding) wygenerowany przez OpenAI."
   ]
  },
  {
   "cell_type": "markdown",
   "metadata": {},
   "source": [
    "## Eksport Danych do CSV (opcjonalnie)"
   ]
  },
  {
   "cell_type": "code",
   "execution_count": 11,
   "metadata": {},
   "outputs": [
    {
     "name": "stdout",
     "output_type": "stream",
     "text": [
      "✅ Wyeksportowano dane do: database_export.csv\n"
     ]
    }
   ],
   "source": [
    "# Zapisz DataFrame do CSV\n",
    "output_file = \"database_export.csv\"\n",
    "df.to_csv(output_file, index=False)\n",
    "print(f\"✅ Wyeksportowano dane do: {output_file}\")"
   ]
  }
 ],
 "metadata": {
  "kernelspec": {
   "display_name": "wise-knowledge (3.11.9)",
   "language": "python",
   "name": "python3"
  },
  "language_info": {
   "codemirror_mode": {
    "name": "ipython",
    "version": 3
   },
   "file_extension": ".py",
   "mimetype": "text/x-python",
   "name": "python",
   "nbconvert_exporter": "python",
   "pygments_lexer": "ipython3",
   "version": "3.11.9"
  }
 },
 "nbformat": 4,
 "nbformat_minor": 4
}
